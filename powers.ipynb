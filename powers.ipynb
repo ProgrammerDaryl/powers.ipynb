{
 "cells": [
  {
   "cell_type": "code",
   "execution_count": null,
   "metadata": {},
   "outputs": [],
   "source": [
    "def powers(x, y):\n",
    "    # if the number is raised to 0\n",
    "    if y == 0:\n",
    "        return 1\n",
    "    "
   ]
  }
 ],
 "metadata": {
  "language_info": {
   "name": "python"
  }
 },
 "nbformat": 4,
 "nbformat_minor": 2
}
