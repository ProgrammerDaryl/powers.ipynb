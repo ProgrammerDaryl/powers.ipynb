{
 "cells": [
  {
   "cell_type": "code",
   "execution_count": null,
   "metadata": {},
   "outputs": [],
   "source": [
    "def powers(x, y):\n",
    "    # if the number is raised to 0\n",
    "    if y == 0:\n",
    "        return 1\n",
    "    else:\n",
    "        return x * powers(x, y -1) # the exponent should be lesser once it's been used\n",
    "    \n",
    "# for base and exponent\n",
    "base = 2\n",
    "exponent = 7\n",
    "result = powers(base, exponent)\n",
    "print(f\"Mrs. Rivera: Mia, when {base} has an exponent of {exponent}, the result will be {result}.\")"
   ]
  }
 ],
 "metadata": {
  "language_info": {
   "name": "python"
  }
 },
 "nbformat": 4,
 "nbformat_minor": 2
}
