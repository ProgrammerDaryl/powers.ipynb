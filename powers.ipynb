{
 "cells": [
  {
   "cell_type": "code",
   "execution_count": 1,
   "metadata": {},
   "outputs": [
    {
     "name": "stdout",
     "output_type": "stream",
     "text": [
      "Mrs. Rivera: Mia, when 2 has an exponent of 7, the result will be 128.\n"
     ]
    }
   ],
   "source": [
    "def powers(x, y):\n",
    "    # if the number is raised to 0\n",
    "    if y == 0:\n",
    "        return 1\n",
    "    else:\n",
    "        return x * powers(x, y -1) # the exponent should be lesser once it's been used\n",
    "    \n",
    "# for base and exponent\n",
    "base = 2\n",
    "exponent = 7\n",
    "result = powers(base, exponent)\n",
    "print(f\"Mrs. Rivera: Mia, when {base} has an exponent of {exponent}, the result will be {result}.\")"
   ]
  }
 ],
 "metadata": {
  "kernelspec": {
   "display_name": "Python 3",
   "language": "python",
   "name": "python3"
  },
  "language_info": {
   "codemirror_mode": {
    "name": "ipython",
    "version": 3
   },
   "file_extension": ".py",
   "mimetype": "text/x-python",
   "name": "python",
   "nbconvert_exporter": "python",
   "pygments_lexer": "ipython3",
   "version": "3.11.9"
  }
 },
 "nbformat": 4,
 "nbformat_minor": 2
}
